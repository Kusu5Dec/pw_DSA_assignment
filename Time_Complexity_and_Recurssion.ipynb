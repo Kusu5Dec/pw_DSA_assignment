{
 "cells": [
  {
   "cell_type": "code",
   "execution_count": null,
   "metadata": {},
   "outputs": [],
   "source": [
    "# PROBLEM 1:\n",
    "\n",
    "def quicksort(arr):\n",
    "    if len(arr) <= 1:\n",
    "        return arr\n",
    "    pivot = arr[len(arr) // 2]\n",
    "    left = [x for x in arr if x < pivot]\n",
    "    middle = [x for x in arr if x == pivot]\n",
    "    right = [x for x in arr if x > pivot]\n",
    "    return quicksort(left) + middle + quicksort(right)\n",
    "\n",
    "# TIME COMPLEXITY\n",
    "\n",
    "# Average case:O(n log n)\n",
    "# Wrost case : O(n^2)"
   ]
  },
  {
   "cell_type": "code",
   "execution_count": null,
   "metadata": {},
   "outputs": [],
   "source": [
    "# PROBLEM 2:\n",
    "\n",
    "\n",
    "def nested_loop_example(matrix):\n",
    "    rows, cols = len(matrix), len(matrix[0])\n",
    "    total = 0\n",
    "    for i in range(rows):\n",
    "        for j in range(cols):\n",
    "            total += matrix[i][j]\n",
    "            return total\n",
    "        \n",
    "# TIME COMPLEXITY \n",
    "\n",
    "\n",
    "# O(m * n), where m is the number of rows and n is the number of columns in the matrix.        "
   ]
  },
  {
   "cell_type": "code",
   "execution_count": null,
   "metadata": {},
   "outputs": [],
   "source": [
    "# PROBLEM 3:\n",
    "\n",
    "\n",
    "def example_function(arr):\n",
    "    result = 0\n",
    "    for element in arr:\n",
    "        result += element\n",
    "        return result\n",
    "    \n",
    "# TIME COMPLEXITY : O(n)    "
   ]
  },
  {
   "cell_type": "code",
   "execution_count": null,
   "metadata": {},
   "outputs": [],
   "source": [
    "# PROBLEM 4:\n",
    "\n",
    "def longest_increasing_subsequence(nums):\n",
    "    n = len(nums)\n",
    "    lis = [1] * n\n",
    "    for i in range(1, n):\n",
    "        for j in range(0, i):\n",
    "            if nums[i] > nums[j] and lis[i] < lis[j] + 1:\n",
    "                lis[i] = lis[j] + 1\n",
    "                return max(lis)\n",
    "\n",
    "# TIME COMPLEXITY : O(n^2)     "
   ]
  },
  {
   "cell_type": "code",
   "execution_count": null,
   "metadata": {},
   "outputs": [],
   "source": [
    "# PROBLEM 5:\n",
    "\n",
    "\n",
    "def mysterious_function(arr):\n",
    "    n = len(arr)\n",
    "    result = 0\n",
    "    for i in range(n):\n",
    "        for j in range(i, n):\n",
    "            result += arr[i] * arr[j]\n",
    "            return result\n",
    "        \n",
    "# TIME COMPLEXITY : O(n^2)        "
   ]
  },
  {
   "cell_type": "code",
   "execution_count": 3,
   "metadata": {},
   "outputs": [
    {
     "name": "stdout",
     "output_type": "stream",
     "text": [
      "6\n"
     ]
    }
   ],
   "source": [
    "# PROBLEM 6: Sum of Digits\n",
    "\n",
    "def sum_of_digits(n):\n",
    "    if n < 10:\n",
    "        return n\n",
    "    else:\n",
    "        return n % 10 + sum_of_digits(n//10)\n",
    "result=sum_of_digits(123)\n",
    "print(result)    \n"
   ]
  },
  {
   "cell_type": "code",
   "execution_count": 2,
   "metadata": {},
   "outputs": [
    {
     "name": "stdout",
     "output_type": "stream",
     "text": [
      "0 1 1 2 3 5 "
     ]
    }
   ],
   "source": [
    "# PROBLEM 7:Fibonacci series\n",
    "\n",
    "def Fibonacci_series(n):\n",
    "    if n == 0 :\n",
    "        return 0\n",
    "    elif n == 1:\n",
    "        return 1\n",
    "    else:\n",
    "        return Fibonacci_series(n-2)+ Fibonacci_series(n-1)\n",
    "n=6    \n",
    "for i in range(0,n):\n",
    "    print(Fibonacci_series(i),end= \" \")\n",
    "    "
   ]
  },
  {
   "cell_type": "code",
   "execution_count": 4,
   "metadata": {},
   "outputs": [
    {
     "name": "stdout",
     "output_type": "stream",
     "text": [
      "True\n"
     ]
    }
   ],
   "source": [
    "# PROBLEM 8:Subset sum\n",
    "\n",
    "\n",
    "def subset_sum(num,target):\n",
    "    if target == 0:\n",
    "        return True\n",
    "    if not num or target < 0:\n",
    "        return False\n",
    "    include =subset_sum(num[:-1],target-num[-1])\n",
    "    exclude=subset_sum(num[:-1],target)\n",
    "    return include or exclude\n",
    "result=subset_sum([3,34,4,12,5,2],9)\n",
    "print(result)    "
   ]
  },
  {
   "cell_type": "code",
   "execution_count": 8,
   "metadata": {},
   "outputs": [
    {
     "name": "stdout",
     "output_type": "stream",
     "text": [
      "True\n"
     ]
    }
   ],
   "source": [
    "# PROBLEM 9:Word Break\n",
    "\n",
    "def word_break(s,word_dict):\n",
    "    if not s:\n",
    "        return True\n",
    "    for item in range(1,len(s)+1):\n",
    "        prefix=s[:item]\n",
    "        if prefix in word_dict and word_break(s[item:],word_dict):\n",
    "            return True\n",
    "    return False    \n",
    "result=word_break(\"leetcode\",[\"leet\",\"code\"])\n",
    "print(result)    "
   ]
  }
 ],
 "metadata": {
  "kernelspec": {
   "display_name": "Python 3",
   "language": "python",
   "name": "python3"
  },
  "language_info": {
   "codemirror_mode": {
    "name": "ipython",
    "version": 3
   },
   "file_extension": ".py",
   "mimetype": "text/x-python",
   "name": "python",
   "nbconvert_exporter": "python",
   "pygments_lexer": "ipython3",
   "version": "3.11.4"
  }
 },
 "nbformat": 4,
 "nbformat_minor": 2
}
