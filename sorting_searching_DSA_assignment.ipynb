{
 "cells": [
  {
   "cell_type": "code",
   "execution_count": 2,
   "metadata": {},
   "outputs": [
    {
     "name": "stdout",
     "output_type": "stream",
     "text": [
      "[5]\n"
     ]
    }
   ],
   "source": [
    "\n",
    "def find_intersection(arr1,arr2):\n",
    "    intersection=[]\n",
    "    i,j=0,0\n",
    "    while i < len(arr1) and j < len(arr2):\n",
    "        if arr1[i]== arr2[j]:\n",
    "            intersection.append(arr1[i])\n",
    "            i += 1\n",
    "            j += 1\n",
    "        elif arr1[i] < arr2[j]:\n",
    "            i += 1\n",
    "        else:\n",
    "            j += 1\n",
    "    return intersection                    \n",
    "            \n",
    "result=find_intersection([1,3,5,7,9],[2,4,5,8])\n",
    "print(result)    \n"
   ]
  },
  {
   "cell_type": "code",
   "execution_count": 74,
   "metadata": {},
   "outputs": [
    {
     "name": "stdout",
     "output_type": "stream",
     "text": [
      "To 3rd element is 7\n"
     ]
    }
   ],
   "source": [
    "\n",
    "def kth_smallest_element(arr,k):\n",
    "    if k > 0 and k <= len(arr):\n",
    "        arr.sort()\n",
    "        return arr[k-1]\n",
    "    else:\n",
    "        return \"invalid element\"\n",
    "result=kth_smallest_element([12,3,1,7,8,20],3)\n",
    "print(\"To 3rd element is \"+str(result))\n",
    "    "
   ]
  },
  {
   "cell_type": "code",
   "execution_count": 17,
   "metadata": {},
   "outputs": [
    {
     "name": "stdout",
     "output_type": "stream",
     "text": [
      "2\n"
     ]
    }
   ],
   "source": [
    "\n",
    "def search_sorted_array(arr,target):\n",
    "    low=0\n",
    "    high=len(arr)-1\n",
    "    while low <= high:\n",
    "        mid=(low+high)//2\n",
    "        if arr[mid]==target:\n",
    "            return mid\n",
    "        if arr[low]<= arr[mid]:\n",
    "            if arr[low]<=target<arr[mid]:\n",
    "                high=mid-1\n",
    "            else:\n",
    "                low=mid+1\n",
    "        else:\n",
    "            if arr[mid]<target<=arr[high]:\n",
    "                low=mid+1\n",
    "            else:\n",
    "                high=mid-1\n",
    "    return target                          \n",
    "result=search_sorted_array([4,5,6,7,8,9,1,2,3],6)\n",
    "print(result)    \n"
   ]
  },
  {
   "cell_type": "code",
   "execution_count": 1,
   "metadata": {},
   "outputs": [
    {
     "name": "stdout",
     "output_type": "stream",
     "text": [
      "(1, 2)\n"
     ]
    }
   ],
   "source": [
    "\n",
    "def searching_matrix(matrix,target):\n",
    "    if not matrix or not(matrix[0]):\n",
    "        return \"matrix is empty\"\n",
    "    row,column=len(matrix),len(matrix[0])\n",
    "    low,high=0,row*column-1\n",
    "    while low <= high:\n",
    "        mid=(low+high)//2\n",
    "        mid_element=matrix[mid//column][mid%column]\n",
    "        if mid_element == target:\n",
    "            row=mid//column\n",
    "            column=mid%column\n",
    "            return row,column\n",
    "        elif mid_element < target:\n",
    "            low =mid+1\n",
    "        else:\n",
    "            high=mid-1\n",
    "    return target                 \n",
    "matrix=[\n",
    "    [1,3,5],\n",
    "    [7,9,11],\n",
    "    [13,15,11]\n",
    "    ]\n",
    "target=11    \n",
    "result=searching_matrix(matrix,target)\n",
    "print(result)    "
   ]
  },
  {
   "cell_type": "code",
   "execution_count": 20,
   "metadata": {},
   "outputs": [
    {
     "name": "stdout",
     "output_type": "stream",
     "text": [
      "['kiwi', 'apple', 'grape', 'banana', 'orange']\n"
     ]
    }
   ],
   "source": [
    "\n",
    "\n",
    "def sorting_strings_length(arr):\n",
    "    sorted_string=sorted(arr,key=len)\n",
    "    return(sorted_string)\n",
    "result=sorting_strings_length(['apple', 'banana', 'kiwi', 'orange', 'grape'])\n",
    "print(result)"
   ]
  },
  {
   "cell_type": "code",
   "execution_count": 3,
   "metadata": {},
   "outputs": [
    {
     "name": "stdout",
     "output_type": "stream",
     "text": [
      "[3, 9, 10, 27, 38, 43, 82]\n"
     ]
    }
   ],
   "source": [
    "\n",
    "def merge_sort(arr):\n",
    "    if len(arr)>1:\n",
    "        mid=len(arr)//2\n",
    "        left=arr[:mid]\n",
    "        right=arr[mid:]\n",
    "        merge_sort(left)\n",
    "        merge_sort(right)\n",
    "        merge(arr,left,right)\n",
    "    return arr    \n",
    "def merge(arr,left,right):\n",
    "    i=j=k=0\n",
    "    while i<len(left) and j<len(right):\n",
    "        if left[i]<right[j]:\n",
    "            arr[k]=left[i]\n",
    "            i += 1\n",
    "        else:\n",
    "            arr[k]=right[j]\n",
    "            j += 1\n",
    "        k += 1\n",
    "    while i < len(left):\n",
    "        arr[k]=left[i]\n",
    "        i += 1\n",
    "        k += 1\n",
    "    while j < len(right):\n",
    "        arr[k] =right[j]\n",
    "        j += 1\n",
    "        k += 1                       \n",
    "result=merge_sort([38,27,43,3,9,82,10])\n",
    "print(result)\n",
    "               "
   ]
  },
  {
   "cell_type": "code",
   "execution_count": 3,
   "metadata": {},
   "outputs": [
    {
     "name": "stdout",
     "output_type": "stream",
     "text": [
      "[1, 2, 6, 9, 10, 11, 15]\n"
     ]
    }
   ],
   "source": [
    "\n",
    "def quick_sort(arr,low,high):\n",
    "    if low < high:\n",
    "        pi=paritition(arr,low,high)\n",
    "        quick_sort(arr,low,pi-1)\n",
    "        quick_sort(arr,pi+1,high)\n",
    "def paritition(arr,low,high):\n",
    "    pivot=arr[high]\n",
    "    i=low-1\n",
    "    for j in range(low,high):\n",
    "        if(arr[j]<=pivot):\n",
    "            i=i+1\n",
    "            arr[i],arr[j]=arr[j],arr[i]\n",
    "    arr[i+1],arr[high]=arr[high],arr[i+1]\n",
    "    return i+1\n",
    "arr=[10,15,1,2,9,6,11]\n",
    "quick_sort(arr,0,len(arr)-1)\n",
    "print(arr)\n",
    "\n",
    "            "
   ]
  },
  {
   "cell_type": "code",
   "execution_count": 9,
   "metadata": {},
   "outputs": [
    {
     "name": "stdout",
     "output_type": "stream",
     "text": [
      "[1, 2, 3, 4, 6, 7, 8, 9, 10]\n"
     ]
    }
   ],
   "source": [
    "\n",
    "def count_sorting(arr):\n",
    "    max_elemnt=max(arr)\n",
    "    count=[0]*(max_elemnt+1)\n",
    "    for item in arr:\n",
    "        count[item] += 1\n",
    "    for i in range(1,len(count)):\n",
    "        count[i] += count[i-1]\n",
    "    output=[0]*len(arr)\n",
    "    for item in reversed(arr):\n",
    "        output[count[item]-1] = item\n",
    "        count[item] -= 1\n",
    "    return output    \n",
    "        \n",
    "        \n",
    "result=count_sorting([4,2,8,3,7,1,9,6,10])\n",
    "print(result)    "
   ]
  }
 ],
 "metadata": {
  "kernelspec": {
   "display_name": "Python 3",
   "language": "python",
   "name": "python3"
  },
  "language_info": {
   "codemirror_mode": {
    "name": "ipython",
    "version": 3
   },
   "file_extension": ".py",
   "mimetype": "text/x-python",
   "name": "python",
   "nbconvert_exporter": "python",
   "pygments_lexer": "ipython3",
   "version": "3.11.5"
  }
 },
 "nbformat": 4,
 "nbformat_minor": 2
}
