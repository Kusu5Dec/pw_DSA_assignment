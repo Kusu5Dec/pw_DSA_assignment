{
 "cells": [
  {
   "cell_type": "code",
   "execution_count": 14,
   "metadata": {},
   "outputs": [
    {
     "name": "stdout",
     "output_type": "stream",
     "text": [
      "True\n"
     ]
    }
   ],
   "source": [
    "## Method defining of the check if it contains any duplicate or not \n",
    "## Time complexity = o(n)\n",
    "## Space complexity = o(1)\n",
    "\n",
    "\n",
    "def duplicate_elements(arr):\n",
    "    vars=set()\n",
    "    for item in arr:\n",
    "        if item in vars:\n",
    "            return True\n",
    "        vars.add(item)\n",
    "    return False    \n",
    "    \n",
    "# Drive code              \n",
    "arr=([1,2,4,2,5,9])\n",
    "result=duplicate_elements(arr)\n",
    "print(result)\n",
    "\n",
    "\n",
    "    \n",
    "    "
   ]
  },
  {
   "cell_type": "code",
   "execution_count": 23,
   "metadata": {},
   "outputs": [
    {
     "name": "stdout",
     "output_type": "stream",
     "text": [
      "[5, 6, 7, 1, 2, 3, 4]\n"
     ]
    }
   ],
   "source": [
    "## method defining of the rotate the array to the right by k steps\n",
    "## time complexity = o(n)+o(n)\n",
    "## space complexity = o(1)\n",
    "def rotate_right(arr,k):\n",
    "    output_ar=[]\n",
    "    for item in range(len(arr)-k,len(arr)):\n",
    "        output_ar.append(arr[item])\n",
    "    for item in range(0,len(arr)-k):\n",
    "        output_ar.append(arr[item])\n",
    "    return output_ar\n",
    "## Drive code          \n",
    "arr=([1,2,3,4,5,6,7])\n",
    "k=3\n",
    "result=rotate_right(arr,k)\n",
    "print(result)    "
   ]
  },
  {
   "cell_type": "code",
   "execution_count": 15,
   "metadata": {},
   "outputs": [
    {
     "name": "stdout",
     "output_type": "stream",
     "text": [
      "[12, 9, 7, 5, 4, 2]\n"
     ]
    }
   ],
   "source": [
    "## method of the defining of the reverse \n",
    "## time complexity = log(n)\n",
    "## space complexity = o(1)\n",
    "def reverse(arr):\n",
    "    start=0\n",
    "    end=len(arr)-1\n",
    "    while (start<end):\n",
    "        vars=arr[start]\n",
    "        arr[start]=arr[end]\n",
    "        arr[end]=vars\n",
    "        start += 1\n",
    "        end -= 1\n",
    "    return arr    \n",
    "       \n",
    "## Drive code        \n",
    "arr=([2,4,5,7,9,12])\n",
    "result=reverse(arr) \n",
    "print(result)   "
   ]
  },
  {
   "cell_type": "code",
   "execution_count": 17,
   "metadata": {},
   "outputs": [
    {
     "name": "stdout",
     "output_type": "stream",
     "text": [
      "20\n"
     ]
    }
   ],
   "source": [
    "## method of the defining of the maximum element\n",
    "## time complexity = o(n)\n",
    "## space complexity = o(1)\n",
    "def maximum_element(arr):\n",
    "    maximum=arr[0]\n",
    "    for item in arr:\n",
    "        if item > maximum:\n",
    "            maximum=item\n",
    "    return maximum        \n",
    "## Drive code                     \n",
    "arr=([10,5,20,8,15])\n",
    "result=maximum_element(arr)\n",
    "print(result)    "
   ]
  },
  {
   "cell_type": "code",
   "execution_count": 7,
   "metadata": {},
   "outputs": [
    {
     "name": "stdout",
     "output_type": "stream",
     "text": [
      "[1, 2, 3, 4, 5]\n"
     ]
    }
   ],
   "source": [
    "# method of the defining of the remove the dupliacte element\n",
    "# time complexity = o(n)\n",
    "# space complexity = o(1)\n",
    "def removing_elements(arr):\n",
    "    final_arr=[]\n",
    "    for item in arr:\n",
    "        if item not in final_arr:\n",
    "            final_arr.append(item)\n",
    "    return final_arr\n",
    "# Drive code                         \n",
    "arr=([1,1,2,2,2,3,3,4,4,4,5,5])\n",
    "result=removing_elements(arr)\n",
    "print(result)    "
   ]
  }
 ],
 "metadata": {
  "kernelspec": {
   "display_name": "Python 3",
   "language": "python",
   "name": "python3"
  },
  "language_info": {
   "codemirror_mode": {
    "name": "ipython",
    "version": 3
   },
   "file_extension": ".py",
   "mimetype": "text/x-python",
   "name": "python",
   "nbconvert_exporter": "python",
   "pygments_lexer": "ipython3",
   "version": "3.11.4"
  }
 },
 "nbformat": 4,
 "nbformat_minor": 2
}
