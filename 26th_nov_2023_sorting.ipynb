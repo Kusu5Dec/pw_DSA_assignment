{
 "cells": [
  {
   "cell_type": "code",
   "execution_count": 33,
   "metadata": {},
   "outputs": [
    {
     "name": "stdout",
     "output_type": "stream",
     "text": [
      "2\n"
     ]
    }
   ],
   "source": [
    "# Problem 1\n",
    "\n",
    "\n",
    "def maximum_value(arr):\n",
    "    a={}\n",
    "    max=0\n",
    "    maximum_element=None\n",
    "    for item in arr:\n",
    "        if item not in a:\n",
    "            a[item]=1\n",
    "        else:\n",
    "            a[item]=a[item]+1\n",
    "    for item,freuency in a.items():\n",
    "        if freuency > max:\n",
    "            max= freuency\n",
    "            maximum_element=item\n",
    "    return maximum_element                       \n",
    "            \n",
    "        \n",
    "    \n",
    "k=maximum_value([2,4,7,9,9,5,7,5,4,3,2,8,2,2,2,2,4,5,6])\n",
    "print(k)\n",
    "\n",
    "\n",
    "\n",
    "# Time Complexity = o(n)  "
   ]
  },
  {
   "cell_type": "code",
   "execution_count": 36,
   "metadata": {},
   "outputs": [
    {
     "name": "stdout",
     "output_type": "stream",
     "text": [
      "5\n"
     ]
    }
   ],
   "source": [
    "#Problem 2\n",
    "\n",
    "\n",
    "\n",
    "def missing_num(arr):\n",
    "    n=len(arr)+1\n",
    "    expected_sum=n*(n+1)//2\n",
    "    actual_sum=sum(arr)\n",
    "    missing_num=expected_sum-actual_sum\n",
    "    return missing_num    \n",
    "    \n",
    "k=missing_num([1,2,4,3,6,7,8])\n",
    "print(k)\n",
    "    \n",
    "\n",
    "# Time Complexity=o(n)\n"
   ]
  },
  {
   "cell_type": "code",
   "execution_count": 38,
   "metadata": {},
   "outputs": [
    {
     "name": "stdout",
     "output_type": "stream",
     "text": [
      "3\n"
     ]
    }
   ],
   "source": [
    "# Problem 3\n",
    "\n",
    "\n",
    "def repeated_odd_num(arr):\n",
    "    result=0\n",
    "    for item in arr:\n",
    "        result ^= item\n",
    "    return result    \n",
    "k=repeated_odd_num([1,2,3,2,3,1,3])\n",
    "print(k)\n",
    "\n",
    "\n",
    "# Time Complexity= o(n)\n",
    "# Space Complexity =o(1)    "
   ]
  },
  {
   "cell_type": "code",
   "execution_count": 71,
   "metadata": {},
   "outputs": [
    {
     "name": "stdout",
     "output_type": "stream",
     "text": [
      "(7, 2)\n"
     ]
    }
   ],
   "source": [
    "# Problem 4\n",
    "\n",
    "\n",
    "def find_sum_element(arr,targetnum):\n",
    "    seen_element=set()\n",
    "    for item in arr:\n",
    "        complement=targetnum-item\n",
    "        if complement in seen_element:\n",
    "            return item,complement\n",
    "        seen_element.add(item)\n",
    "        \n",
    "    \n",
    "      \n",
    "k=find_sum_element([1,4,2,7,11,15],9)\n",
    "print(k)    \n"
   ]
  },
  {
   "cell_type": "code",
   "execution_count": 80,
   "metadata": {},
   "outputs": [
    {
     "name": "stdout",
     "output_type": "stream",
     "text": [
      "(-80, 85)\n"
     ]
    }
   ],
   "source": [
    "# Problem 5\n",
    "\n",
    "\n",
    "def find_closest_sum(arr):\n",
    "    if len(arr)<2:\n",
    "        return None\n",
    "    arr.sort()\n",
    "    closet_sum=float('inf')\n",
    "    closet_pair=None\n",
    "    left,right=0,len(arr)-1\n",
    "    while left < right:\n",
    "        current_sum=arr[left]+arr[right]\n",
    "        current_difference=abs(current_sum)\n",
    "        if current_difference < closet_sum:\n",
    "            closet_sum=current_difference\n",
    "            closet_pair=(arr[left],arr[right])\n",
    "        if current_sum<0:\n",
    "            left += 1\n",
    "        else:\n",
    "            right -= 1\n",
    "    return closet_pair                \n",
    "            \n",
    "        \n",
    "k=find_closest_sum([1,60,-10,70,-80,85])\n",
    "print(k)\n",
    "\n",
    "\n",
    "# Time Complexity = o(n*log(n))    "
   ]
  },
  {
   "cell_type": "code",
   "execution_count": 2,
   "metadata": {},
   "outputs": [
    {
     "name": "stdout",
     "output_type": "stream",
     "text": [
      "(1, 2, 15)\n"
     ]
    }
   ],
   "source": [
    "# Problem 6\n",
    "\n",
    "\n",
    "\n",
    "def find_three_element_sum(arr,target_num):\n",
    "    n=len(arr)\n",
    "    if n < 3:\n",
    "        return None\n",
    "    arr.sort()\n",
    "    for item in range(n-2):\n",
    "        left=item+1\n",
    "        right=n-1\n",
    "        while left < right:\n",
    "            current_sum=arr[item]+arr[left]+arr[right]\n",
    "            if current_sum == target_num:\n",
    "                return arr[item],arr[left],arr[right]\n",
    "            elif current_sum < target_num:\n",
    "                left += 1\n",
    "            else:\n",
    "                right -= 1\n",
    "    return None                \n",
    "k=find_three_element_sum([1,4,2,7,11,15],18)\n",
    "print(k)\n",
    "\n",
    "\n",
    "\n",
    "# Time Complexity = o(n^2)    "
   ]
  },
  {
   "cell_type": "code",
   "execution_count": 8,
   "metadata": {},
   "outputs": [
    {
     "name": "stdout",
     "output_type": "stream",
     "text": [
      "(1, 4, 6)\n"
     ]
    }
   ],
   "source": [
    "# Problem 7\n",
    "\n",
    "\n",
    "def find_triplet(arr):\n",
    "    n=len(arr)\n",
    "    squared_arr=[x * x for x in arr]\n",
    "    squared_arr.sort()\n",
    "    for k in range(n-1,1,-1):\n",
    "        i=0\n",
    "        j=k-1\n",
    "        while i < j:\n",
    "            if squared_arr[i]+squared_arr[j] == squared_arr[k]:\n",
    "                return arr[i],arr[j],arr[k]\n",
    "            elif squared_arr[i]+squared_arr[j]<squared_arr[k]:\n",
    "                    i += 1\n",
    "            else:\n",
    "                j -= 1             \n",
    "    return None            \n",
    "                    \n",
    "                \n",
    "k=find_triplet([3,1,4,6,5])\n",
    "print(k)\n",
    "\n",
    "\n",
    "# Time Complexity=o(n^2)    "
   ]
  },
  {
   "cell_type": "code",
   "execution_count": 31,
   "metadata": {},
   "outputs": [
    {
     "name": "stdout",
     "output_type": "stream",
     "text": [
      "2\n"
     ]
    }
   ],
   "source": [
    "# Problem 8\n",
    "\n",
    "\n",
    "\n",
    "def find_majority_num(arr):\n",
    "    candidate = None\n",
    "    count = 0\n",
    "    for item in arr :\n",
    "        if count == 0:\n",
    "            candidate = item\n",
    "            count = 1\n",
    "        elif item == candidate:\n",
    "            count += 1\n",
    "        else:\n",
    "            count -= 1\n",
    "    count_candidate=arr.count(candidate)\n",
    "    if count_candidate > len(arr)//2:\n",
    "        return candidate\n",
    "    else:\n",
    "        return None \n",
    "    \n",
    "                    \n",
    "            \n",
    "k=find_majority_num([2,2,3,1,2,2,2,4,2])\n",
    "print(k)\n",
    "\n",
    "\n",
    "# Time complexity = o(n)"
   ]
  },
  {
   "cell_type": "code",
   "execution_count": 32,
   "metadata": {},
   "outputs": [
    {
     "name": "stdout",
     "output_type": "stream",
     "text": [
      "[0, 0, 0, 0, 0, 0, 1, 1, 1, 1, 1, 2, 2]\n"
     ]
    }
   ],
   "source": [
    "def sort_array(arr):\n",
    "    low, mid, high = 0, 0, len(arr) - 1\n",
    "    while mid <= high:\n",
    "        if arr[mid] == 0:\n",
    "            arr[low], arr[mid] = arr[mid], arr[low]\n",
    "            low += 1\n",
    "            mid += 1  \n",
    "        elif arr[mid] == 1:\n",
    "            mid += 1\n",
    "        else:\n",
    "            arr[mid], arr[high] = arr[high], arr[mid]\n",
    "            high -= 1\n",
    "    return arr\n",
    "\n",
    "arr = [0, 1, 1, 0, 1, 2, 1, 2, 0, 0, 0, 0, 1]\n",
    "sort_array(arr)\n",
    "print(arr)\n",
    "\n",
    "\n",
    "\n",
    "# Time Complexity = o(n)\n"
   ]
  }
 ],
 "metadata": {
  "kernelspec": {
   "display_name": "Python 3",
   "language": "python",
   "name": "python3"
  },
  "language_info": {
   "codemirror_mode": {
    "name": "ipython",
    "version": 3
   },
   "file_extension": ".py",
   "mimetype": "text/x-python",
   "name": "python",
   "nbconvert_exporter": "python",
   "pygments_lexer": "ipython3",
   "version": "3.11.4"
  }
 },
 "nbformat": 4,
 "nbformat_minor": 2
}
