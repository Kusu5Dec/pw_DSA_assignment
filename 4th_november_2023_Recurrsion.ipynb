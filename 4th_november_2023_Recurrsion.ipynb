{
 "cells": [
  {
   "cell_type": "code",
   "execution_count": 8,
   "metadata": {},
   "outputs": [
    {
     "name": "stdout",
     "output_type": "stream",
     "text": [
      " Move disc1 from rod A to rod C \n",
      "Move disc 2 from rod A to rod B\n",
      " Move disc1 from rod C to rod B \n",
      "Move disc 3 from rod A to rod C\n",
      " Move disc1 from rod B to rod A \n",
      "Move disc 2 from rod B to rod C\n",
      " Move disc1 from rod A to rod C \n"
     ]
    }
   ],
   "source": [
    "# Question : 1\n",
    "\n",
    "# Time complexity = o(2^n)\n",
    "\n",
    "def HOA(numbers,start,aux,end):\n",
    "    if numbers == 1:\n",
    "        print(\" Move disc1 from rod {} to rod {} \".format(start,end))\n",
    "        return\n",
    "    HOA(numbers-1,start,end,aux)\n",
    "    print(\"Move disc {} from rod {} to rod {}\".format(numbers,start,end))\n",
    "    HOA(numbers-1,aux,start,end)\n",
    "disk=3\n",
    "HOA(disk,\"A\",\"B\",\"C\")        \n",
    "        \n",
    "    "
   ]
  },
  {
   "cell_type": "code",
   "execution_count": 10,
   "metadata": {},
   "outputs": [
    {
     "data": {
      "text/plain": [
       "22"
      ]
     },
     "execution_count": 10,
     "metadata": {},
     "output_type": "execute_result"
    }
   ],
   "source": [
    "# Question : 3\n",
    "\n",
    "\n",
    "# Time complexity : o(n)\n",
    "\n",
    "def max_value(arr):\n",
    "    if len(arr) == 1:\n",
    "        return arr[0]\n",
    "    else:\n",
    "        return max(arr[0],max_value(arr[1:]))\n",
    "max_value([13,1,-3,22,5])    \n"
   ]
  },
  {
   "cell_type": "code",
   "execution_count": 22,
   "metadata": {},
   "outputs": [
    {
     "name": "stdout",
     "output_type": "stream",
     "text": [
      "120\n"
     ]
    }
   ],
   "source": [
    "# Question : 4\n",
    "\n",
    "\n",
    "# Time complexity : o(n)\n",
    "\n",
    "def sum_value(arr,n):\n",
    "    if  n <= 0:\n",
    "        return 0\n",
    "    else:\n",
    "        return sum_value(arr,n-1)+arr[n-1]\n",
    "     \n",
    "\n",
    "\n",
    "arr=([92,23,15,-20,10])\n",
    "n=len(arr)\n",
    "k=sum_value(arr,n)\n",
    "print(k)\n",
    "    "
   ]
  },
  {
   "cell_type": "code",
   "execution_count": 26,
   "metadata": {},
   "outputs": [
    {
     "name": "stdout",
     "output_type": "stream",
     "text": [
      "134 is an  not armstrong\n"
     ]
    }
   ],
   "source": [
    "# Question : 5\n",
    "\n",
    "\n",
    "def arm(n):\n",
    "    if n < 10:\n",
    "        return n*n*n\n",
    "    else:\n",
    "        return (n%10)*(n%10)*(n%10)+arm(int(n/10))\n",
    "ar=134    \n",
    "k=arm(ar)\n",
    "if ar == k:\n",
    "    print(ar,\"is an armstrong\")\n",
    "else:\n",
    "    print(ar,\"is an  not armstrong\")\n",
    "    \n",
    "    "
   ]
  }
 ],
 "metadata": {
  "kernelspec": {
   "display_name": "Python 3",
   "language": "python",
   "name": "python3"
  },
  "language_info": {
   "codemirror_mode": {
    "name": "ipython",
    "version": 3
   },
   "file_extension": ".py",
   "mimetype": "text/x-python",
   "name": "python",
   "nbconvert_exporter": "python",
   "pygments_lexer": "ipython3",
   "version": "3.11.4"
  }
 },
 "nbformat": 4,
 "nbformat_minor": 2
}
